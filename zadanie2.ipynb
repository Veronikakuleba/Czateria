{
  "nbformat": 4,
  "nbformat_minor": 0,
  "metadata": {
    "colab": {
      "provenance": [],
      "authorship_tag": "ABX9TyMNf8kCzBozuXFFWx/d3TpC",
      "include_colab_link": true
    },
    "kernelspec": {
      "name": "python3",
      "display_name": "Python 3"
    },
    "language_info": {
      "name": "python"
    }
  },
  "cells": [
    {
      "cell_type": "markdown",
      "metadata": {
        "id": "view-in-github",
        "colab_type": "text"
      },
      "source": [
        "<a href=\"https://colab.research.google.com/github/Veronikakuleba/Czateria/blob/main/zadanie2.ipynb\" target=\"_parent\"><img src=\"https://colab.research.google.com/assets/colab-badge.svg\" alt=\"Open In Colab\"/></a>"
      ]
    },
    {
      "cell_type": "code",
      "execution_count": null,
      "metadata": {
        "id": "oGBJAo8HoJnb"
      },
      "outputs": [],
      "source": []
    },
    {
      "cell_type": "code",
      "source": [
        "# Fakty zapisane jako słownik\n",
        "fakty = {\n",
        "    'ojciec': [('Jan', 'Anna'), ('Piotr', 'Kasia')],\n",
        "    'matka': [('Maria', 'Anna'), ('Ewa', 'Kasia')]\n",
        "}\n",
        "\n",
        "# Funkcja do sprawdzania reguły rodzica\n",
        "def czy_jest_matką(osoba1, osoba2):\n",
        "    return (osoba1, osoba2) in fakty.get('matka', [])\n",
        "\n",
        "print(czy_jest_matką('Maria', 'Kasia'))\n"
      ],
      "metadata": {
        "id": "297JSTp_oQjx"
      },
      "execution_count": null,
      "outputs": []
    },
    {
      "cell_type": "code",
      "source": [
        "# Fakty zapisane jako słownik\n",
        "fakty = {\n",
        "    'ojciec': [('Jan', 'Anna'), ('Piotr', 'Kasia')],\n",
        "    'matka': [('Maria', 'Anna'), ('Ewa', 'Kasia')]\n",
        "}\n",
        "\n",
        "# Funkcja do sprawdzania reguły rodzica\n",
        "def czy_jest_rodzicem(osoba1, osoba2):\n",
        "    return (osoba1, osoba2) in fakty.get('matka', []) or (osoba1, osoba2) in fakty.get('ojciec', [])\n",
        "\n",
        "print(czy_jest_rodzicem('Ewa', 'Kasia'))"
      ],
      "metadata": {
        "id": "11-vkMbYoTIl"
      },
      "execution_count": null,
      "outputs": []
    },
    {
      "cell_type": "code",
      "source": [
        "# Fakty zapisane jako słownik\n",
        "fakty = {\n",
        "    'ojciec': [('Jan', 'Anna'), ('Piotr', 'Kasia')],\n",
        "    'matka': [('Maria', 'Anna'), ('Ewa', 'Kasia')],\n",
        "    'zwierze': [('Kot', 'Anna'), ('Pies', 'Kasia')],\n",
        "}\n",
        "\n",
        "# Funkcja do sprawdzania reguły rodzica\n",
        "def czy_jest_zwierze(osoba1, osoba2):\n",
        "    return (osoba1, osoba2) in fakty.get('matka', []) or (osoba1, osoba2) in fakty.get('ojciec', []) or (osoba1, osoba2) in fakty.get('zwierze',[])\n",
        "\n",
        "print(czy_jest_zwierze('Kot', 'Anna'))"
      ],
      "metadata": {
        "id": "_-RVqZNWoWhO"
      },
      "execution_count": null,
      "outputs": []
    },
    {
      "cell_type": "code",
      "source": [
        "# Fakty zapisane jako słownik\n",
        "fakty = {\n",
        "    'ojciec': [('Jan', 'Anna'), ('Piotr', 'Kasia')],\n",
        "    'matka': [('Maria', 'Anna'), ('Ewa', 'Kasia')],\n",
        "    'pra-pra-dziadek' : [('Marek', 'Anna'), ('Igor')]\n",
        "}\n",
        "(tut pisać) for i in []\n",
        "# Funkcja do sprawdzania reguły rodzica\n",
        "def czy_jest_rodzicem(osoba1, osoba2):\n",
        "    return (osoba1, osoba2) in fakty.get('matka', []) or (osoba1, osoba2) in fakty.get('ojciec', [])\n",
        "\n",
        "print(czy_jest_rodzicem('Ewa', 'Kasia'))"
      ],
      "metadata": {
        "id": "Fk9akmgTodSy"
      },
      "execution_count": null,
      "outputs": []
    },
    {
      "cell_type": "code",
      "source": [
        "fakty = {\n",
        "    'ojciec': [('Jan', 'Anna'), ('Piotr', 'Kasia')],\n",
        "    'matka': [('Maria', 'Anna'), ('Ewa', 'Kasia')],\n",
        "}\n",
        "\n",
        "def czy_jest_rodzicem(osoba1, osoba2):\n",
        "    return (osoba1, osoba2) in fakty.get('matka', []) or (osoba1, osoba2) in fakty.get('ojciec', [])\n",
        "\n",
        "def znajdz_przodkow(osoba, stopien):\n",
        "    przodkowie = set()\n",
        "    aktualna_generacja = {osoba}\n",
        "\n",
        "    for i in range(stopien):\n",
        "        nastepna_generacja = set()\n",
        "\n",
        "        for osoba in aktualna_generacja:\n",
        "            for rola, relacje in fakty.items():\n",
        "                for rodzic, dziecko in relacje:\n",
        "                    if dziecko == osoba:\n",
        "                        nastepna_generacja.add(rodzic)\n",
        "                        przodkowie.add((rola, rodzic, i + 1))\n",
        "\n",
        "        aktualna_generacja = nastepna_generacja\n",
        "\n",
        "    return przodkowie\n",
        "\n",
        "def modyfikuj_fakty(dodany_stopien):\n",
        "    nowe_fakty = {'pra-pra-dziadek': [], 'pra-pra-babcia': []}\n",
        "\n",
        "    for dziecko, _ in fakty.get('ojciec', []) + fakty.get('matka', []):\n",
        "        przodkowie = znajdz_przodkow(dziecko, dodany_stopien)\n",
        "\n",
        "        for rola, osoba, stopien in przodkowie:\n",
        "            if stopien == dodany_stopien:\n",
        "                if rola == 'ojciec':\n",
        "                    nowe_fakty['pra-pra-dziadek'].append((osoba, dziecko))\n",
        "                elif rola == 'matka':\n",
        "                    nowe_fakty['pra-pra-babcia'].append((osoba, dziecko))\n",
        "\n",
        "    fakty.update(nowe_fakty)\n",
        "\n",
        "modyfikuj_fakty(2)\n",
        "print(fakty)\n",
        "\n",
        "\n",
        "fakty2 = {\n",
        "    'ojciec': [('Jan', 'Anna'), ('Piotr', 'Kasia')],\n",
        "    'matka': [('Maria', 'Anna'), ('Ewa', 'Kasia')],\n",
        "}\n",
        "\n",
        "def jest_rodzicem(rodzic, dziecko):\n",
        "    return (rodzic, dziecko) in fakty2.get('matka', []) or (rodzic, dziecko) in fakty2.get('ojciec', [])\n",
        "\n",
        "def dodaj_dziadkow_i_babcie():\n",
        "    nowe_fakty = {'dziadek': [], 'babcia': []}\n",
        "\n",
        "    for rodzaj, relacje in fakty2.items():\n",
        "        for rodzic, dziecko in relacje:\n",
        "            for rodzaj_rodzica, relacje_rodzica in fakty2.items():\n",
        "                for dziadek_babcia, rodzic_rodzica in relacje_rodzica:\n",
        "                    if rodzic_rodzica == rodzic:\n",
        "                        if rodzaj_rodzica == 'ojciec':\n",
        "                            nowe_fakty['dziadek'].append((dziadek_babcia, dziecko))\n",
        "                        elif rodzaj_rodzica == 'matka':\n",
        "                            nowe_fakty['babcia'].append((dziadek_babcia, dziecko))\n",
        "\n",
        "    fakty2.update(nowe_fakty)\n",
        "\n",
        "dodaj_dziadkow_i_babcie()\n",
        "print(fakty2)"
      ],
      "metadata": {
        "id": "v6Y3bccJog25"
      },
      "execution_count": null,
      "outputs": []
    }
  ]
}