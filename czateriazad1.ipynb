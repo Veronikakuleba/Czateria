{
  "nbformat": 4,
  "nbformat_minor": 0,
  "metadata": {
    "colab": {
      "provenance": []
    },
    "kernelspec": {
      "name": "python3",
      "display_name": "Python 3"
    },
    "language_info": {
      "name": "python"
    }
  },
  "cells": [
    {
      "cell_type": "code",
      "execution_count": null,
      "metadata": {
        "id": "FlkdZLbbDjwD"
      },
      "outputs": [],
      "source": []
    },
    {
      "cell_type": "markdown",
      "source": [],
      "metadata": {
        "id": "ZkuIQAzeD2-k"
      }
    },
    {
      "cell_type": "code",
      "source": [],
      "metadata": {
        "id": "AKS4oRZcD4Ns"
      },
      "execution_count": null,
      "outputs": []
    },
    {
      "cell_type": "code",
      "source": [],
      "metadata": {
        "id": "UgZ_OzDxD4Qc"
      },
      "execution_count": null,
      "outputs": []
    },
    {
      "cell_type": "code",
      "source": [],
      "metadata": {
        "id": "j9q3-uWCD4TM"
      },
      "execution_count": null,
      "outputs": []
    },
    {
      "cell_type": "markdown",
      "source": [],
      "metadata": {
        "id": "3DJoU6voD5HE"
      }
    },
    {
      "cell_type": "markdown",
      "source": [],
      "metadata": {
        "id": "bcwu-qSdD5M0"
      }
    },
    {
      "cell_type": "markdown",
      "source": [
        "\n",
        "\n"
      ],
      "metadata": {
        "id": "qCdRThi3EGCE"
      }
    },
    {
      "cell_type": "markdown",
      "source": [
        "Zadanie 1 :\n",
        "Które z następujęcych zadań wymagają w twojej opinii inteligencji od człowieka:\n",
        "\n",
        "*   Odpowiadanie na proste pytania zadawane w języku naturalnym (np. polskim) - Ai łatwo radzi sobie z bardziej skomplikowanymi zadaniami niż z trudnymi (człowiek radzi sobie lepiej z prostymi)\n",
        "*   komponowanie muzyki - trzeba posiadać emocje\n",
        "*   układanie rozkładu jazdy transportu miejskiego - trzeba posiadać umiejętność strategicznego myślenia\n",
        "*   wypełnianie deklaracji PIT - trzeba wiedzieć, co wpisać\n",
        "*   streszczanie tekstu - wymaga logicznego myślenia  \n",
        "*   tłumaczenie tekstu - wymaga logicznego myślenia i znajomości gramatyki ortografii\n",
        "*   klasyfikacja tekstu do kategorii tematycznych - wymaga myślenia strategicznego\n",
        "*   testowanie oprogramowania - wymaga subjektywności i postępowania automatycznego\n",
        "*   rozwiązywanie układów równań - wymaga logicznego myślenia\n",
        "*   programowanie (pisanie programów komputerowych) - wymaga posiadanej wiedzy w danym zakresie\n",
        "*   „programowanie” kanałów telewizyjnych - wymaga logicznego myślenia i wiedzy w danym zakresie\n",
        "*   kierowanie samochodem - wymaga umiejętności szybkiego reagowania, wiedzy\n",
        "*   symboliczne obliczanie pochodnych funkcji - znajomosc odpowiednich wzorow i umiejetnosc ich rozwiazania\n",
        "*   symboliczne całkowanie funkcji - znajomosc odpowiednich wzorow i umiejetnosc ich rozwiazania\n",
        "\n",
        "\n",
        "Zadanie 2 :\n",
        "Które z następujących problemów można uznać za mieszczące się w zakresie sztucznej\n",
        "inteligencji: wszystkie, gdyż sztuczna inteligencja potrafi rozwiązać dane problemy.\n",
        "• streszczanie tekstu\n",
        "• tłumaczenie tekstu\n",
        "• klasyfikacja tekstu do kategorii tematycznych\n",
        "• odpowiadanie na proste pytania zadawane w języku naturalnym\n",
        "• rozwiązywanie układów równań\n",
        "• układanie rozkładu jazdy\n",
        "• rozwiązywanie układów równań liniowych\n",
        "• symboliczne obliczanie pochodnych\n",
        "• symboliczne całkowanie\n",
        "• kierowanie samochodem\n",
        "\n",
        "Zadanie 3\n",
        "Które z poniższych rodzajów komunikacyjnego zachowania człowieka mogą być\n",
        "obecnie skutecznie imitowane przez sztuczne systemy (odpowiednio oprogramowane\n",
        "maszyny):\n",
        "• rozmowa towarzyska - może, test Turinga jest temu potwierdzenie\n",
        "• dyskusja polityczna - może\n",
        "• dyskusja naukowa - może\n",
        "• odpowiadanie na pytania klientów w telefonicznej infolinii - może\n",
        "• odpowiadanie na pytania klientów w internetowej infolinii - może\n",
        "\n",
        "Zadanie 4\n",
        "Do zadań skorzystaj z załączonej listy Chatbotów (Chatterbotów) lub znajdź własne.\n",
        "1. Przeprowadź rozmowę z chatbotem. Spróbuj zdefiniować różnice pomiędzy\n",
        "botem udającym człowieka (przygotowywanym na test Turinga) a botem\n",
        "„asystentem, służącym”.\n",
        "\n",
        "-Witam, w czym mogę Ci pomóc?\n",
        "+cześć, czy mogę zadać Ci pytanie?\n",
        "-Możesz zadać mi dowolne pytanie, najlepiej jeśli dotyczy oferty strony na której jestem.\n",
        "+czy jesteś wyłącznie doradcą i nie możesz udzielić informacji dotyczącej filozofii?\n",
        "-Zaskakujesz mnie. Spróbuj zadać pytanie inaczej.\n",
        "Zobacz też\n",
        "Finansowanie mojego projektu zakłada jednorazową płatność za tego typu usługę\n",
        "Widzę, że chatbot słabo sobie radzi w sytuacji X\n",
        "Jakie wymagania musi spełniać moja strona żeby uruchomić na niej chatbota?\n",
        "Czym jest chatbot?\n",
        "O firmie\n",
        "+Jaki jest twój ulubiony kolor?\n",
        "-Lubię wszystkie kolory ale mój ulubiony to niebieski.\n",
        "+Dlaczego twój ulubiony kolor to niebieski?\n",
        "-Lubię wszystkie kolory ale mój ulubiony to niebieski.\n",
        "\n",
        "Z zamieszczonego dialogu wynika, że https://chatbot.pl/ odpowiada wyłącznie na pytania z zakresu doradztwa. W przpadku zadania pytania o charakterze osobistym dotyczącym preferencji osobistych odpowiada w sposób logiczny, lecz nie jest w stanie wyjaśnić/argumentować włąsną opinie.\n",
        "\n",
        "W przypadku bota udającego człowieka mamy do czynienia z argumentacją i wyjasnieniem kwestii związanych z własnym wyborem.\n",
        "\n",
        "2. Sprawdź dwa boty z obu z tych rodzajów na występowanie zachowań:\n",
        "a) opowiadanie żartów :\n",
        "- Bot udający człowieka - potrafi opowiedzieć dowcip w sposób nieodrużniający go od człowieka\n",
        "- Bot asystent - nie potrafi opowiedzieć sensownego żartu\n",
        "b) przytaczanie cytatów z twoich wypowiedzi lub znanych osób -  \n",
        "c) nawiązywanie wypowiedzi do słów kluczowych,\n",
        "d) zadawanie dużej liczby pytań,\n",
        "e) powracanie do początku wypowiedzi, sekwencyjne powtarzanie,\n",
        "f) zadawanie pytań powstających z twoich wypowiedzi,\n",
        "g) odpowiadanie wymijająco, ogólnikowo,\n",
        "h) częsta zmiana tematu rozmowy,\n",
        "i) problemy z utrzymaniem wątków.\n",
        "3. Sporządź raport ze spostrzeżeń.\n",
        "4. Na podstawie powyższych obserwacji, w grupie dwóch osób spróbujcie prze-\n",
        "widzieć zachowania dwóch rozmawiających ze sobą chatbotów (przepisując ich\n",
        "wzajemne odpowiedzi).\n",
        "5. Zdenerwuj bota 😊😊\n",
        "\n",
        "\n",
        "\n",
        "\n",
        "\n"
      ],
      "metadata": {
        "id": "OtGaJ5f9GgjV"
      }
    },
    {
      "cell_type": "code",
      "source": [],
      "metadata": {
        "id": "bXp8ygeRDvvt"
      },
      "execution_count": null,
      "outputs": []
    }
  ]
}