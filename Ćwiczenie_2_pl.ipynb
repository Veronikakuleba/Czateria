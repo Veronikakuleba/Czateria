{
  "nbformat": 4,
  "nbformat_minor": 0,
  "metadata": {
    "colab": {
      "provenance": [],
      "authorship_tag": "ABX9TyPJ+0N4yPLNf/E6Od2+uOwA",
      "include_colab_link": true
    },
    "kernelspec": {
      "name": "python3",
      "display_name": "Python 3"
    },
    "language_info": {
      "name": "python"
    }
  },
  "cells": [
    {
      "cell_type": "markdown",
      "metadata": {
        "id": "view-in-github",
        "colab_type": "text"
      },
      "source": [
        "<a href=\"https://colab.research.google.com/github/Veronikakuleba/Czateria/blob/main/%C4%86wiczenie_2_pl.ipynb\" target=\"_parent\"><img src=\"https://colab.research.google.com/assets/colab-badge.svg\" alt=\"Open In Colab\"/></a>"
      ]
    },
    {
      "cell_type": "code",
      "execution_count": null,
      "metadata": {
        "id": "MGF8NOW_ohKH"
      },
      "outputs": [],
      "source": []
    },
    {
      "cell_type": "markdown",
      "source": [],
      "metadata": {
        "id": "rBmN7i79oi1k"
      }
    },
    {
      "cell_type": "markdown",
      "source": [],
      "metadata": {
        "id": "cP3UylMjomvp"
      }
    },
    {
      "cell_type": "code",
      "source": [],
      "metadata": {
        "id": "mDoijuWqopTK"
      },
      "execution_count": null,
      "outputs": []
    },
    {
      "cell_type": "markdown",
      "source": [
        "kobieta(X) :- osoba(X), +m(X).\n",
        "\n",
        "ojciec(X,Y) :- osoba(X), osoba(Y), m(X), rodzic(X,Y).\n",
        "\n",
        "matka(X,Y) :- osoba(X), osoba(Y), kobieta(X), rodzic(X,Y).\n",
        "\n",
        "corka(X,Y) :- osoba(X), osoba(Y), kobieta(X), rodzic(Y,X).\n",
        "\n",
        "brat_rodzony(X,Y) :- osoba(X), osoba(Y), ojciec(Ojciec, X), ojciec(Ojciec, Y), matka(Matka, X), matka(Matka, Y), m(X).\n",
        "\n",
        "brat_przyrodni(X,Y) :- osoba(X), osoba(Y), m(X), ((ojciec(Ojciec1, X), ojciec(Ojciec1,Y), matka(Matka1, X), +matka(Matka1, Y)) ; (ojciec(Ojciec2, X), +ojciec(Ojciec2,Y), matka(Matka2, X), matka(Matka2, Y))).\n",
        "\n",
        "kuzyn(X,Y) :- osoba(X), osoba(Y), rodzic(Z, X), rodzic(W, Y), brat_rodzony(Z, W).\n",
        "\n",
        "dziadek_od_strony_ojca(X,Y) :- osoba(X), osoba(Y), rodzic(X, Z), m(Z), rodzic(Z, Y), m(Y).\n",
        "\n",
        "dziadek_od_strony_matki(X, Y) :- osoba(X), osoba(Y), rodzic(X, Z), kobieta(Z), rodzic(Z, Y), m(Y).\n",
        "\n",
        "dziadek(X, Y) :- osoba(X), osoba(Y), rodzic(X, Z), rodzic(Z, Y), m(Z).\n",
        "\n",
        "babcia(X, Y) :- osoba(X), osoba(Y), rodzic(X, Z), rodzic(Z, Y), kobieta(Z).\n",
        "\n",
        "wnuczka(X, Y) :- osoba(X), osoba(Y), rodzic(Y, Z), rodzic(Z, X), kobieta(X).\n",
        "\n",
        "przodek_do2pokolenia_wstecz(X, Y) :- osoba(X), osoba(Y), rodzic(X, Z), rodzic(Z, Y).\n",
        "\n",
        "przodek_do3pokolenia_wstecz(X, Y) :- osoba(X), osoba(Y), rodzic(X, Z), przodek_do2pokolenia_wstecz(Z, Y)."
      ],
      "metadata": {
        "id": "84ASb_EZoscs"
      }
    }
  ]
}