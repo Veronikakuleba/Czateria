{
  "nbformat": 4,
  "nbformat_minor": 0,
  "metadata": {
    "colab": {
      "provenance": [],
      "authorship_tag": "ABX9TyNK+TttrXz3QZ02KtO3uuYl",
      "include_colab_link": true
    },
    "kernelspec": {
      "name": "python3",
      "display_name": "Python 3"
    },
    "language_info": {
      "name": "python"
    }
  },
  "cells": [
    {
      "cell_type": "markdown",
      "metadata": {
        "id": "view-in-github",
        "colab_type": "text"
      },
      "source": [
        "<a href=\"https://colab.research.google.com/github/Veronikakuleba/Czateria/blob/main/zadaniazaliczenie.ipynb\" target=\"_parent\"><img src=\"https://colab.research.google.com/assets/colab-badge.svg\" alt=\"Open In Colab\"/></a>"
      ]
    },
    {
      "cell_type": "code",
      "execution_count": null,
      "metadata": {
        "id": "-1ua_-zEqAqT"
      },
      "outputs": [],
      "source": [
        "Zadanie 1:"
      ]
    },
    {
      "cell_type": "code",
      "source": [
        "% Fakty\n",
        "ojciec(jan, anna).\n",
        "ojciec(jan, piotr).\n",
        "matka(maria, anna).\n",
        "matka(maria, piotr).\n",
        "malzenstwo(jan, maria).\n",
        "\n",
        "mezczyzna(piotr).\n",
        "kobieta(anna).\n",
        "\n",
        "% Reguły\n",
        "rodzic(X, Y) :- ojciec(X, Y).\n",
        "rodzic(X, Y) :- matka(X, Y).\n",
        "\n",
        "przodek(X, Y) :- rodzic(X, Y).\n",
        "przodek(X, Y) :- rodzic(X, Z), przodek(Z, Y).\n",
        "\n",
        "brat(X, Y) :- mezczyzna(X), rodzic(Z, X), rodzic(Z, Y), X \\= Y.\n",
        "\n",
        "siostra(X, Y) :- kobieta(X), rodzic(Z, X), rodzic(Z, Y), X \\= Y.\n",
        "kuzyn(X, Y) :- rodzic(Z1, X), rodzic(Z2, Y), brat(Z1, Z2).\n",
        "kuzyn(X, Y) :- rodzic(Z1, X), rodzic(Z2, Y), siostra(Z1, Z2)."
      ],
      "metadata": {
        "id": "h7TJficiqNVH"
      },
      "execution_count": null,
      "outputs": []
    },
    {
      "cell_type": "markdown",
      "source": [
        "Zadanie 2:"
      ],
      "metadata": {
        "id": "DR3Ae4TzqQWC"
      }
    },
    {
      "cell_type": "code",
      "source": [
        "% Fakty\n",
        "lotnisko(warszawa).\n",
        "lotnisko(krakow).\n",
        "lotnisko(gdansk).\n",
        "\n",
        "polaczenie(warszawa, krakow, 300).\n",
        "polaczenie(krakow, gdansk, 200).\n",
        "polaczenie(warszawa, gdansk, 500).\n",
        "\n",
        "% Reguły\n",
        "polaczenie(X, Y) :- polaczenie(X, Y, _).\n",
        "\n",
        "koszt_podrozy(X, Y, C) :- polaczenie(X, Y, C).\n",
        "\n",
        "% Reguła dla najkrótszej drogi\n",
        "najkrotsza_droga(X, Y, Trasa, Koszt) :-\n",
        "    znajdz_wszystkie_drogi(X, Y, Drogi),\n",
        "    znajdz_najkrotsza(Drogi, Trasa, Koszt).\n",
        "\n",
        "znajdz_wszystkie_drogi(X, Y, Drogi) :-\n",
        "    znajdz_wszystkie_drogi(X, Y, [], Drogi).\n",
        "\n",
        "znajdz_wszystkie_drogi(X, Y, Sciezka, [[X, Y]|Sciezka]) :-\n",
        "    polaczenie(X, Y, _), \\+ memberchk([X, Y], Sciezka).\n",
        "znajdz_wszystkie_drogi(X, Y, Sciezka, Drogi) :-\n",
        "    polaczenie(X, Z, _), \\+ memberchk([X, Z], Sciezka),\n",
        "    znajdz_wszystkie_drogi(Z, Y, [[X, Z]|Sciezka], Drogi)."
      ],
      "metadata": {
        "id": "n0w2gv_Qsd46"
      },
      "execution_count": null,
      "outputs": []
    },
    {
      "cell_type": "markdown",
      "source": [
        "Zadanie 3:"
      ],
      "metadata": {
        "id": "r-3IskmWsfVT"
      }
    },
    {
      "cell_type": "code",
      "source": [
        "% Fakty\n",
        "produkt(tv, 10, sektor_a).\n",
        "produkt(pralka, 5, sektor_b).\n",
        "produkt(lodowka, 3, sektor_c).\n",
        "\n",
        "% Reguły\n",
        "dostepny_produkt(X) :- produkt(X, Ilosc, _), Ilosc > 0.\n",
        "\n",
        "przenies_produkt(X, NowySektor) :-\n",
        "    retract(produkt(X, Ilosc, _)),\n",
        "    assertz(produkt(X, Ilosc, NowySektor)).\n",
        "\n",
        "uzupelnij_stan(X, N) :-\n",
        "    produkt(X, Ilosc, Sektor),\n",
        "    NowaIlosc is Ilosc + N,\n",
        "    retract(produkt(X, Ilosc, Sektor)),\n",
        "    assertz(produkt(X, NowaIlosc, Sektor))."
      ],
      "metadata": {
        "id": "uwuwvGAHshHd"
      },
      "execution_count": null,
      "outputs": []
    },
    {
      "cell_type": "markdown",
      "source": [
        "Zadanie 4:"
      ],
      "metadata": {
        "id": "8uwRAPv5uFZl"
      }
    },
    {
      "cell_type": "code",
      "source": [
        "% Fakty\n",
        "miasto(warszawa).\n",
        "miasto(krakow).\n",
        "miasto(poznan).\n",
        "\n",
        "% Połączenia drogowe\n",
        "% droga(Miasto1, Miasto2, CzasPrzejazdu).\n",
        "droga(warszawa, krakow, 4).\n",
        "droga(krakow, poznan, 3).\n",
        "droga(warszawa, poznan, 7).\n",
        "\n",
        "% Reguły\n",
        "droga(X, Y) :- droga(X, Y, _).\n",
        "droga(X, Y) :- droga(Y, X, _).\n",
        "\n",
        "czas_przejazdu(X, Y, T) :- droga(X, Y, T).\n",
        "czas_przejazdu(X, Y, T) :-\n",
        "    droga(X, Z, T1),\n",
        "    czas_przejazdu(Z, Y, T2),\n",
        "    T is T1 + T2.\n",
        "\n",
        "najkrotsza_trasa(X, Y, Trasa, NajkrotszyCzas) :-\n",
        "    znajdz_wszystkie_trasy(X, Y, Trasy),\n",
        "    minimalny_czas(Trasy, Trasa, NajkrotszyCzas).\n",
        "\n",
        "znajdz_wszystkie_trasy(X, Y, Trasy) :-\n",
        "    znajdz_trasy(X, Y, [X], Trasy).\n",
        "\n",
        "znajdz_trasy(X, Y, Sciezka, Trasy) :-\n",
        "    droga(X, Z, Czas1),\n",
        "    \\+ memberchk(Z, Sciezka),\n",
        "    znajdz_trasy(Z, Y, [Z|Sciezka], PozostaleTrasy),\n",
        "    dodaj_czas_do_trasy(PozostaleTrasy, Czas1, Trasy)."
      ],
      "metadata": {
        "id": "9Y1dU3nUuC6e"
      },
      "execution_count": null,
      "outputs": []
    },
    {
      "cell_type": "markdown",
      "source": [
        "Zadanie 5:"
      ],
      "metadata": {
        "id": "M_S6-xc0uBM1"
      }
    },
    {
      "cell_type": "code",
      "source": [
        "% Fakty\n",
        "ksiazka('W pustyni i w puszczy', sienkiewicz, przygodowa).\n",
        "ksiazka('Hobbit', tolkien, fantasy).\n",
        "ksiazka('Pan Tadeusz', mickiewicz, poezja).\n",
        "ocena(uzytkownik1, 'W pustyni i w puszczy', 5).\n",
        "ocena(uzytkownik1, 'Hobbit', 4).\n",
        "ocena(uzytkownik1, 'Pan Tadeusz', 3).\n",
        "preferencje(uzytkownik1, fantasy).\n",
        "\n",
        "% Reguła polecane_ksiazki(X, Gatunek):\n",
        "polecane_ksiazki(Uzytkownik, Gatunek, ListaKsiazek) :-\n",
        "    preferencje(Uzytkownik, Gatunek), % Sprawdzenie, czy użytkownik preferuje dany gatunek\n",
        "    findall(Ksiazka,\n",
        "        (ksiazka(Ksiazka, _, Gatunek),\n",
        "         ocena(Uzytkownik, Ksiazka, Ocena),\n",
        "         Ocena >= 4), % Książki wysoko oceniane (ocena >= 4)\n",
        "        ListaKsiazek)."
      ],
      "metadata": {
        "id": "NykV-dWHuieH"
      },
      "execution_count": null,
      "outputs": []
    }
  ]
}