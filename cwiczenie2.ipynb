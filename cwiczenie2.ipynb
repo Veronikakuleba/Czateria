{
  "nbformat": 4,
  "nbformat_minor": 0,
  "metadata": {
    "colab": {
      "provenance": [],
      "name": "cwiczenie2.ipynb",
      "authorship_tag": "ABX9TyOv95WGzz0prHQvCemSUuxe",
      "include_colab_link": true
    },
    "kernelspec": {
      "name": "python3",
      "display_name": "Python 3"
    },
    "language_info": {
      "name": "python"
    }
  },
  "cells": [
    {
      "cell_type": "markdown",
      "metadata": {
        "id": "view-in-github",
        "colab_type": "text"
      },
      "source": [
        "<a href=\"https://colab.research.google.com/github/Veronikakuleba/Czateria/blob/main/cwiczenie2.ipynb\" target=\"_parent\"><img src=\"https://colab.research.google.com/assets/colab-badge.svg\" alt=\"Open In Colab\"/></a>"
      ]
    },
    {
      "cell_type": "code",
      "execution_count": null,
      "metadata": {
        "id": "twqof1ph9BR0"
      },
      "outputs": [],
      "source": []
    },
    {
      "cell_type": "markdown",
      "source": [
        "ZAD2.\n",
        "Załóżmy, że w pewnej bazie zdefiniowano wyłącznie predykaty: rodzic oraz mężczyzna. Załóżmy\n",
        "ponadto, że zakresem rozważań jest zbiór osób – jako dodatkowy, trzeci predykat. Opierając się na\n",
        "tych trzech predyklatach zdefiniuj w języku Prolog kolejno każdą z poniższych reguł:\n",
        "1. kobieta(X)\n",
        "2. ojciec(X,Y) – X jest ojcem Y\n",
        "3. matka(X,Y) – X jest matką Y\n",
        "4. corka(X,Y) – X jest córką Y\n",
        "5. brat_rodzony(X,Y) – X jest rodzonym bratem Y\n",
        "6. brat_przyrodni(X,Y) – X jest przyrodnim bratem Y\n",
        "7. kuzyn(X,Y) – X jest kuzynem Y\n",
        "8. dziadek_od_strony_ojca(X,Y) – X jest dziadkiem od strony ojca dla Y\n",
        "9. dziadek_od_strony_matki(X,Y) – X jest dziadkiem od strony matki dla Y\n",
        "10. dziadek(X,Y) – X jest dziadkiem Y\n",
        "11. babcia(X,Y) – X jest babcią Y\n",
        "12. wnuczka(X,Y) – Y jest wnuczką X\n",
        "13. przodek_do2pokolenia_wstecz(X,Y) – X jest przodkiem Y do drugiego pokolenia wstecz\n",
        "14. przodek_do3pokolenia_wstecz(X,Y) - X jest przodkiem Y do trzeciego pokolenia wstecz\n",
        "Podczas tworzenia reguł nie można korzystać z definicji reguł, które nie zostały jeszcze w bazie\n",
        "podane. Oznacza to, że np.:\n",
        "- definiując regułę kobieta możemy korzystać wyłącznie z predykatów osoba, mezczyzna, rodzic;\n",
        "- definiując regułę ojciec możemy korzystać wyłącznie z predykatów osoba, mezczyzna, rodzic\n",
        "oraz reguły kobieta;\n",
        "- definiując regułę matka możemy korzystać wyłącznie z predykatów osoba, mezczyzna, rodzic\n",
        "oraz reguł kobieta, ojciec;\n",
        "itd"
      ],
      "metadata": {
        "id": "ps2pIV0x9Dg_"
      }
    },
    {
      "cell_type": "code",
      "source": [
        "\n",
        "\n",
        "kobieta(X) :- osoba(X), +m(X).\n",
        "\n",
        "ojciec(X,Y) :- osoba(X), osoba(Y), m(X), rodzic(X,Y).\n",
        "\n",
        "matka(X,Y) :- osoba(X), osoba(Y), kobieta(X), rodzic(X,Y).\n",
        "\n",
        "corka(X,Y) :- osoba(X), osoba(Y), kobieta(X), rodzic(Y,X).\n",
        "\n",
        "brat_rodzony(X,Y) :- osoba(X), osoba(Y), ojciec(Ojciec, X), ojciec(Ojciec, Y), matka(Matka, X), matka(Matka, Y), m(X).\n",
        "\n",
        "brat_przyrodni(X,Y) :- osoba(X), osoba(Y), m(X), ((ojciec(Ojciec1, X), ojciec(Ojciec1,Y), matka(Matka1, X), +matka(Matka1, Y)) ; (ojciec(Ojciec2, X), +ojciec(Ojciec2,Y), matka(Matka2, X), matka(Matka2, Y))).\n",
        "\n",
        "kuzyn(X,Y) :- osoba(X), osoba(Y), rodzic(Z, X), rodzic(W, Y), brat_rodzony(Z, W).\n",
        "\n",
        "dziadek_od_strony_ojca(X,Y) :- osoba(X), osoba(Y), rodzic(X, Z), m(Z), rodzic(Z, Y), m(Y).\n",
        "\n",
        "dziadek_od_strony_matki(X, Y) :- osoba(X), osoba(Y), rodzic(X, Z), kobieta(Z), rodzic(Z, Y), m(Y).\n",
        "\n",
        "dziadek(X, Y) :- osoba(X), osoba(Y), rodzic(X, Z), rodzic(Z, Y), m(Z).\n",
        "\n",
        "babcia(X, Y) :- osoba(X), osoba(Y), rodzic(X, Z), rodzic(Z, Y), kobieta(Z).\n",
        "\n",
        "wnuczka(X, Y) :- osoba(X), osoba(Y), rodzic(Y, Z), rodzic(Z, X), kobieta(X).\n",
        "\n",
        "przodek_do2pokolenia_wstecz(X, Y) :- osoba(X), osoba(Y), rodzic(X, Z), rodzic(Z, Y).\n",
        "\n",
        "przodek_do3pokolenia_wstecz(X, Y) :- osoba(X), osoba(Y), rodzic(X, Z), przodek_do2pokolenia_wstecz(Z, Y).\n"
      ],
      "metadata": {
        "id": "_srlZeor9G4N"
      },
      "execution_count": null,
      "outputs": []
    }
  ]
}