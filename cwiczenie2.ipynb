{
  "nbformat": 4,
  "nbformat_minor": 0,
  "metadata": {
    "colab": {
      "provenance": [],
      "authorship_tag": "ABX9TyNgchkAAeqIjWaLY9MXTl/U",
      "include_colab_link": true
    },
    "kernelspec": {
      "name": "python3",
      "display_name": "Python 3"
    },
    "language_info": {
      "name": "python"
    }
  },
  "cells": [
    {
      "cell_type": "markdown",
      "metadata": {
        "id": "view-in-github",
        "colab_type": "text"
      },
      "source": [
        "<a href=\"https://colab.research.google.com/github/Veronikakuleba/Czateria/blob/main/cwiczenie2.ipynb\" target=\"_parent\"><img src=\"https://colab.research.google.com/assets/colab-badge.svg\" alt=\"Open In Colab\"/></a>"
      ]
    },
    {
      "cell_type": "code",
      "source": [],
      "metadata": {
        "id": "cru9KUMNinZn"
      },
      "execution_count": null,
      "outputs": []
    },
    {
      "cell_type": "markdown",
      "source": [
        "ZAD2. Załóżmy, że w pewnej bazie zdefiniowano wyłącznie predykaty: rodzic oraz mężczyzna. Załóżmy ponadto, że zakresem rozważań jest zbiór osób – jako dodatkowy, trzeci predykat. Opierając się na tych trzech predyklatach zdefiniuj w języku Prolog kolejno każdą z poniższych reguł: podane. Oznacza to, że np.:\n",
        "\n",
        "kobieta(X)\n",
        "ojciec(X,Y) – X jest ojcem Y\n",
        "matka(X,Y) – X jest matką Y\n",
        "corka(X,Y) – X jest córką Y\n",
        "brat_rodzony(X,Y) – X jest rodzonym bratem Y\n",
        "brat_przyrodni(X,Y) – X jest przyrodnim bratem Y\n",
        "kuzyn(X,Y) – X jest kuzynem Y\n",
        "dziadek_od_strony_ojca(X,Y) – X jest dziadkiem od strony ojca dla Y\n",
        "dziadek_od_strony_matki(X,Y) – X jest dziadkiem od strony matki dla Y\n",
        "dziadek(X,Y) – X jest dziadkiem Y\n",
        "babcia(X,Y) – X jest babcią Y\n",
        "wnuczka(X,Y) – Y jest wnuczką X\n",
        "przodek_do2pokolenia_wstecz(X,Y) – X jest przodkiem Y do drugiego pokolenia wstecz\n",
        "przodek_do3pokolenia_wstecz(X,Y) - X jest przodkiem Y do trzeciego pokolenia wstecz Podczas tworzenia reguł nie można korzystać z definicji reguł, które nie zostały jeszcze w bazie\n",
        "definiując regułę kobieta możemy korzystać wyłącznie z predykatów osoba, mezczyzna, rodzic;\n",
        "definiując regułę ojciec możemy korzystać wyłącznie z predykatów osoba, mezczyzna, rodzic oraz reguły kobieta;\n",
        "definiując regułę matka możemy korzystać wyłącznie z predykatów osoba, mezczyzna, rodzic oraz reguł kobieta, ojciec; itd"
      ],
      "metadata": {
        "id": "dvRRBt4IimmG"
      }
    },
    {
      "cell_type": "code",
      "source": [
        "kobieta(X) :- osoba(X), +m(X).\n",
        "\n",
        "ojciec(X,Y) :- osoba(X), osoba(Y), m(X), rodzic(X,Y).\n",
        "\n",
        "matka(X,Y) :- osoba(X), osoba(Y), kobieta(X), rodzic(X,Y).\n",
        "\n",
        "corka(X,Y) :- osoba(X), osoba(Y), kobieta(X), rodzic(Y,X).\n",
        "\n",
        "brat_rodzony(X,Y) :- osoba(X), osoba(Y), ojciec(Ojciec, X), ojciec(Ojciec, Y), matka(Matka, X), matka(Matka, Y), m(X).\n",
        "\n",
        "brat_przyrodni(X,Y) :- osoba(X), osoba(Y), m(X), ((ojciec(Ojciec1, X), ojciec(Ojciec1,Y), matka(Matka1, X), +matka(Matka1, Y)) ; (ojciec(Ojciec2, X), +ojciec(Ojciec2,Y), matka(Matka2, X), matka(Matka2, Y))).\n",
        "\n",
        "kuzyn(X,Y) :- osoba(X), osoba(Y), rodzic(Z, X), rodzic(W, Y), brat_rodzony(Z, W).\n",
        "\n",
        "dziadek_od_strony_ojca(X,Y) :- osoba(X), osoba(Y), rodzic(X, Z), m(Z), rodzic(Z, Y), m(Y).\n",
        "\n",
        "dziadek_od_strony_matki(X, Y) :- osoba(X), osoba(Y), rodzic(X, Z), kobieta(Z), rodzic(Z, Y), m(Y).\n",
        "\n",
        "dziadek(X, Y) :- osoba(X), osoba(Y), rodzic(X, Z), rodzic(Z, Y), m(Z).\n",
        "\n",
        "babcia(X, Y) :- osoba(X), osoba(Y), rodzic(X, Z), rodzic(Z, Y), kobieta(Z).\n",
        "\n",
        "wnuczka(X, Y) :- osoba(X), osoba(Y), rodzic(Y, Z), rodzic(Z, X), kobieta(X).\n",
        "\n",
        "przodek_do2pokolenia_wstecz(X, Y) :- osoba(X), osoba(Y), rodzic(X, Z), rodzic(Z, Y).\n",
        "\n",
        "przodek_do3pokolenia_wstecz(X, Y) :- osoba(X), osoba(Y), rodzic(X, Z), przodek_do2pokolenia_wstecz(Z, Y).\n",
        "\n",
        "kobieta(X) :- osoba(X), \\+ mezczyzna(X).\n",
        "\n",
        "ojciec(X, Y) :- mezczyzna(X), rodzic(X, Y).\n",
        "\n",
        "matka(X, Y) :- kobieta(X), rodzic(X, Y).\n",
        "\n",
        "corka(X, Y) :- kobieta(X), matka(Y, X).\n",
        "\n",
        "brat_rodzony(X, Y) :- mezczyzna(X), matka(M, X), matka(M, Y), X \\= Y.\n",
        "\n",
        "brat_przyrodni(X, Y) :- mezczyzna(X), matka(M, X), matka(M, Y), ojciec(O, X), ojciec(O2, Y), O \\= O2, X \\= Y.\n",
        "\n",
        "kuzyn(X, Y) :- mezczyzna(X), matka(M, X), matka(M, Y), ojciec(O, X), ojciec(O2, Y), O \\= O2, X \\= Y.\n",
        "\n",
        "dziadek_od_strony_ojca(X, Y) :- mezczyzna(X), matka(M, Y), ojciec(X, M).\n",
        "\n",
        "dziadek_od_strony_matki(X, Y) :- mezczyzna(X), matka(M, Y), ojciec(X, M).\n",
        "\n",
        "dziadek(X, Y) :- mezczyzna(X), (dziadek_od_strony_ojca(X, Y); dziadek_od_strony_matki(X, Y)).\n",
        "\n",
        "babcia(X, Y) :- kobieta(X), matka(M, Y), matka(X, M).\n",
        "\n",
        "wnuczka(X, Y) :- kobieta(X), dziadek(Y, X).\n",
        "\n",
        "przodek_do2pokolenia_wstecz(X, Y) :- rodzic(X, Y); dziadek(X, Y).\n",
        "\n",
        "przodek_do3pokolenia_wstecz(X, Y) :- rodzic(X, Y); dziadek(X, Y); pra_dziadek(X, Y).\n",
        "\n",
        "pra_dziadek(X, Y) :- mezczyzna(X), matka(M, Y), dziadek(X, M).\n"
      ],
      "metadata": {
        "id": "Xcfejn4EivlC"
      },
      "execution_count": null,
      "outputs": []
    }
  ]
}